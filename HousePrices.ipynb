{
  "nbformat": 4,
  "nbformat_minor": 0,
  "metadata": {
    "coursera": {
      "course_slug": "introduction-tensorflow",
      "graded_item_id": "jRjw8",
      "launcher_item_id": "YoQKl"
    },
    "kernelspec": {
      "display_name": "Python 3",
      "language": "python",
      "name": "python3"
    },
    "language_info": {
      "codemirror_mode": {
        "name": "ipython",
        "version": 3
      },
      "file_extension": ".py",
      "mimetype": "text/x-python",
      "name": "python",
      "nbconvert_exporter": "python",
      "pygments_lexer": "ipython3",
      "version": "3.6.8"
    },
    "colab": {
      "name": "HousePrices.ipynb",
      "provenance": [],
      "include_colab_link": true
    }
  },
  "cells": [
    {
      "cell_type": "markdown",
      "metadata": {
        "id": "view-in-github",
        "colab_type": "text"
      },
      "source": [
        "<a href=\"https://colab.research.google.com/github/GodLoveB/MachineLearning/blob/main/HousePrices.ipynb\" target=\"_parent\"><img src=\"https://colab.research.google.com/assets/colab-badge.svg\" alt=\"Open In Colab\"/></a>"
      ]
    },
    {
      "cell_type": "markdown",
      "metadata": {
        "id": "mw2VBrBcgvGa"
      },
      "source": [
        "###В этом упражнении вы построите нейронную сеть, которая предсказывает цену дома по простой формуле.\n",
        "\n",
        "Представьте себе, что цены на жилье зависят только от количества комнат: дом стоит 500 000 + 500 000 за комнату. то есть дом с 1 спальней стоит 1 000 000, дом с 2 спальнями стоит 1 500 000 и т.д.\n",
        "\n",
        "Как вы создадите нейронную сеть, которая обучается этой зависисмости? проверьте ее, чтобы она предсказывала для дома с 7 спальнями стоимость около 4 млн.\n",
        "\n",
        "**Подсказка**: ваша сеть может работать лучше, если вы *масштабируете* цену так, как это было описано в лекциях. Не нужно давать ответ 4 000 000, лучше создать что-то, что будет предсказывать число 4 и выводить ваш ответ в миллионах."
      ]
    },
    {
      "cell_type": "code",
      "metadata": {
        "id": "moHyJyr4P0OO"
      },
      "source": [
        "import tensorflow as tf\n",
        "import numpy as np\n",
        "from tensorflow import keras"
      ],
      "execution_count": null,
      "outputs": []
    },
    {
      "cell_type": "code",
      "metadata": {
        "id": "PUNO2E6SeURH",
        "colab": {
          "base_uri": "https://localhost:8080/",
          "height": 106
        },
        "outputId": "4623c478-7548-4855-efb3-3edbc2642ba8"
      },
      "source": [
        "# GRADED FUNCTION: house_model\n",
        "def house_model(y_new):\n",
        "    xs = np.array([1,2,3,4,5], dtype = \"float\")\n",
        "    ys = np.array([1, 1.5, 2, 2.5, 3], dtype=\"float\")\n",
        "    model = keras.Sequential([keras.layers.Dense(units = 1, inputShape=([1]))])\n",
        "    model.compile(optimizer = \"sgd\", loss = \"meanSquaredError\")\n",
        "    model.fit(xs,ys)\n",
        "    return model.predict(y_new)[0]"
      ],
      "execution_count": 2,
      "outputs": [
        {
          "output_type": "error",
          "ename": "SyntaxError",
          "evalue": "invalid syntax (<ipython-input-2-522bc2bf1f17>, line 5)",
          "traceback": [
            "\u001b[0;36m  File \u001b[0;32m\"<ipython-input-2-522bc2bf1f17>\"\u001b[0;36m, line \u001b[0;32m5\u001b[0m\n\u001b[0;31m    model = # Здесь ваш код#\u001b[0m\n\u001b[0m            ^\u001b[0m\n\u001b[0;31mSyntaxError\u001b[0m\u001b[0;31m:\u001b[0m invalid syntax\n"
          ]
        }
      ]
    },
    {
      "cell_type": "code",
      "metadata": {
        "id": "LDe5PlKCP0OQ"
      },
      "source": [
        "prediction = house_model([7.0])\n",
        "print(prediction)"
      ],
      "execution_count": null,
      "outputs": []
    }
  ]
}